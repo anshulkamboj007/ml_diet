{
 "cells": [
  {
   "cell_type": "code",
   "execution_count": 1,
   "metadata": {},
   "outputs": [],
   "source": [
    "import streamlit as st\n",
    "import pandas as pd\n",
    "import numpy as np\n",
    "import warnings \n",
    "import pickle\n",
    "import pylab \n",
    "import scipy.stats as stats\n",
    "from sklearn.preprocessing import StandardScaler\n",
    "scaler=StandardScaler()\n",
    "from sklearn.neighbors import NearestNeighbors\n",
    "from sklearn.pipeline import Pipeline\n",
    "from sklearn.preprocessing import FunctionTransformer\n"
   ]
  },
  {
   "cell_type": "code",
   "execution_count": 2,
   "metadata": {},
   "outputs": [
    {
     "name": "stderr",
     "output_type": "stream",
     "text": [
      "2023-06-17 10:19:19.298 \n",
      "  \u001b[33m\u001b[1mWarning:\u001b[0m to view this Streamlit app on a browser, run it with the following\n",
      "  command:\n",
      "\n",
      "    streamlit run c:\\Users\\anshul\\miniconda3\\lib\\site-packages\\ipykernel_launcher.py [ARGUMENTS]\n"
     ]
    }
   ],
   "source": [
    "\n",
    "warnings.filterwarnings('ignore')\n",
    "\n",
    "dataset=pd.read_csv('dataset.csv',compression='gzip')\n",
    "\n",
    "st.subheader('BMI Calculator')\n",
    "\n",
    "weight_in_kgs =1\n",
    "\n",
    "height_in_mtr =1\n",
    "\n",
    "age=1"
   ]
  },
  {
   "cell_type": "code",
   "execution_count": 3,
   "metadata": {},
   "outputs": [
    {
     "name": "stdout",
     "output_type": "stream",
     "text": [
      "1.0\n"
     ]
    }
   ],
   "source": [
    "\n",
    "#sex=male (1) or female(2)\n",
    "\n",
    "sex=1\n",
    "\n",
    "BMI = (weight_in_kgs)/((height_in_mtr)*(height_in_mtr))\n",
    "print(BMI)\n"
   ]
  },
  {
   "cell_type": "code",
   "execution_count": 4,
   "metadata": {},
   "outputs": [
    {
     "name": "stdout",
     "output_type": "stream",
     "text": [
      "under weight\n"
     ]
    }
   ],
   "source": [
    "\n",
    "if BMI <16:\n",
    "    print('under weight')\n",
    "elif BMI <17 and BMI >=16:\n",
    "    print('under weight')\n",
    "elif BMI <18.5 and BMI >=17:\n",
    "    print('under weight')\n",
    "elif BMI <25 and BMI >=18.5:\n",
    "    print('normal')\n",
    "elif BMI <30 and BMI >=25:\n",
    "    print('over weight')\n",
    "else :\n",
    "    print('obesity')"
   ]
  },
  {
   "cell_type": "code",
   "execution_count": 5,
   "metadata": {},
   "outputs": [
    {
     "name": "stdout",
     "output_type": "stream",
     "text": [
      "kcal req per day 6260.0\n"
     ]
    }
   ],
   "source": [
    "if sex == 1:\n",
    "    BMR = 10 * weight_in_kgs + 6.25 *height_in_mtr*1000 - 5 *age  + 5\n",
    "    print('kcal req per day {}'.format(BMR))\n",
    "else :\n",
    "    BMR = 10 * weight_in_kgs + 6.25 *height_in_mtr*1000 - 5 *age  -161\n",
    "    print('kcal req per day {}'.format(BMR))"
   ]
  },
  {
   "cell_type": "code",
   "execution_count": 6,
   "metadata": {},
   "outputs": [],
   "source": [
    "number_of_meals=3"
   ]
  },
  {
   "cell_type": "code",
   "execution_count": 7,
   "metadata": {},
   "outputs": [
    {
     "name": "stdout",
     "output_type": "stream",
     "text": [
      "breakfast:2191.0,lunch:2504.0,dinner:1565.0\n",
      "for lunch only\n",
      "2504.0\n"
     ]
    }
   ],
   "source": [
    "if number_of_meals==3:\n",
    "    meals_calories_perc={'breakfast':0.35,'lunch':0.40,'dinner':0.25}\n",
    "    print('breakfast:{},lunch:{},dinner:{}'.format(0.35*BMR,0.4*BMR,0.25*BMR))\n",
    "    \n",
    "    Calories=0.4*BMR\n",
    "elif number_of_meals==4:\n",
    "    meals_calories_perc={'breakfast':0.30,'morning snack':0.05,'lunch':0.40,'dinner':0.25}\n",
    "    print('breakfast {}, morning snack {},lunch {},dinner {}'.format(0.30*BMR,0.05*BMR,0.40*BMR,0.25*BMR))\n",
    "    #for lunch only\n",
    "    Calories=0.40*BMR\n",
    "else:\n",
    "    meals_calories_perc={'breakfast':0.30,'morning snack':0.05,'lunch':0.40,'afternoon snack':0.05,'dinner':0.20}\n",
    "    print('breakfast {}, morning snack {},lunch {},afternoon snack {},dinner {}'.format(0.30*BMR,0.05*BMR,0.40*BMR,0.05*BMR,0.20*BMR))\n",
    "    #for lunch only\n",
    "    Calories=0.40*BMR\n",
    "\n",
    "print('for lunch only')\n",
    "print(Calories)"
   ]
  },
  {
   "cell_type": "code",
   "execution_count": 8,
   "metadata": {},
   "outputs": [
    {
     "name": "stdout",
     "output_type": "stream",
     "text": [
      "[[2504   10   10   10   10   10   10   10   10]]\n"
     ]
    }
   ],
   "source": [
    "FatContent = 10\n",
    "SaturatedFatContent = 10\n",
    "CholesterolContent = 10\n",
    "SodiumContent= 10\n",
    "CarbohydrateContent= 10\n",
    "FiberContent= 10\n",
    "SugarContent= 10\n",
    "ProteinContent= 10\n",
    "\n",
    "df=[Calories,FatContent,SaturatedFatContent,CholesterolContent,SodiumContent,CarbohydrateContent,FiberContent,SugarContent,ProteinContent]\n",
    "\n",
    "df=np.array(df,dtype='int').reshape(-1, 1)\n",
    "df=df.reshape(1,9)\n",
    "print(df)"
   ]
  },
  {
   "cell_type": "code",
   "execution_count": 9,
   "metadata": {},
   "outputs": [],
   "source": [
    "neigh = pickle.load(open('neigh.pkl', 'rb'))"
   ]
  },
  {
   "cell_type": "code",
   "execution_count": 10,
   "metadata": {},
   "outputs": [],
   "source": [
    "\n",
    "def recommand(dataframe,_input,max_nutritional_values,ingredient_filter=None,params={'return_distance':False}):\n",
    "    extracted_data=extract_data(dataframe,ingredient_filter,max_nutritional_values)\n",
    "    prep_data,scaler=scaling(extracted_data)\n",
    "    neigh=nn_predictor(prep_data)\n",
    "    pipeline=build_pipeline(neigh,scaler,params)\n",
    "    return apply_pipeline(pipeline,_input,extracted_data)\n",
    "\n",
    "\n",
    "def extract_data(dataframe,ingredient_filter,max_nutritional_values):\n",
    "    extracted_data=dataframe.copy()\n",
    "    for column,maximum in zip(extracted_data.columns[6:15],max_nutritional_values):\n",
    "        extracted_data=extracted_data[extracted_data[column]<maximum]\n",
    "    if ingredient_filter!=None:\n",
    "        for ingredient in ingredient_filter:\n",
    "            extracted_data=extracted_data[extracted_data['RecipeIngredientParts'].str.contains(ingredient,regex=False)] \n",
    "    return extracted_data\n",
    "\n",
    "def scaling(dataframe):\n",
    "    scaler=StandardScaler()\n",
    "    prep_data=scaler.fit_transform(dataframe.iloc[:,6:15].to_numpy())\n",
    "    return prep_data,scaler\n",
    "\n",
    "def nn_predictor(prep_data):\n",
    "    neigh = NearestNeighbors(metric='cosine',algorithm='brute')\n",
    "    neigh.fit(prep_data)\n",
    "    return neigh\n",
    "\n",
    "\n",
    "def build_pipeline(neigh,scaler,params):\n",
    "    transformer = FunctionTransformer(neigh.kneighbors,kw_args=params)\n",
    "    pipeline=Pipeline([('std_scaler',scaler),('NN',transformer)])\n",
    "    return pipeline\n",
    "\n",
    "def apply_pipeline(pipeline,_input,extracted_data):\n",
    "    return extracted_data.iloc[pipeline.transform(_input)[0]]\n"
   ]
  },
  {
   "cell_type": "code",
   "execution_count": 11,
   "metadata": {},
   "outputs": [
    {
     "ename": "TypeError",
     "evalue": "'float' object is not iterable",
     "output_type": "error",
     "traceback": [
      "\u001b[1;31m---------------------------------------------------------------------------\u001b[0m",
      "\u001b[1;31mTypeError\u001b[0m                                 Traceback (most recent call last)",
      "Cell \u001b[1;32mIn[11], line 1\u001b[0m\n\u001b[1;32m----> 1\u001b[0m recommand(dataset,df,Calories)\n",
      "Cell \u001b[1;32mIn[10], line 2\u001b[0m, in \u001b[0;36mrecommand\u001b[1;34m(dataframe, _input, max_nutritional_values, ingredient_filter, params)\u001b[0m\n\u001b[0;32m      1\u001b[0m \u001b[39mdef\u001b[39;00m \u001b[39mrecommand\u001b[39m(dataframe,_input,max_nutritional_values,ingredient_filter\u001b[39m=\u001b[39m\u001b[39mNone\u001b[39;00m,params\u001b[39m=\u001b[39m{\u001b[39m'\u001b[39m\u001b[39mreturn_distance\u001b[39m\u001b[39m'\u001b[39m:\u001b[39mFalse\u001b[39;00m}):\n\u001b[1;32m----> 2\u001b[0m     extracted_data\u001b[39m=\u001b[39mextract_data(dataframe,ingredient_filter,max_nutritional_values)\n\u001b[0;32m      3\u001b[0m     prep_data,scaler\u001b[39m=\u001b[39mscaling(extracted_data)\n\u001b[0;32m      4\u001b[0m     neigh\u001b[39m=\u001b[39mnn_predictor(prep_data)\n",
      "Cell \u001b[1;32mIn[10], line 11\u001b[0m, in \u001b[0;36mextract_data\u001b[1;34m(dataframe, ingredient_filter, max_nutritional_values)\u001b[0m\n\u001b[0;32m      9\u001b[0m \u001b[39mdef\u001b[39;00m \u001b[39mextract_data\u001b[39m(dataframe,ingredient_filter,max_nutritional_values):\n\u001b[0;32m     10\u001b[0m     extracted_data\u001b[39m=\u001b[39mdataframe\u001b[39m.\u001b[39mcopy()\n\u001b[1;32m---> 11\u001b[0m     \u001b[39mfor\u001b[39;00m column,maximum \u001b[39min\u001b[39;00m \u001b[39mzip\u001b[39;49m(extracted_data\u001b[39m.\u001b[39;49mcolumns[\u001b[39m6\u001b[39;49m:\u001b[39m15\u001b[39;49m],max_nutritional_values):\n\u001b[0;32m     12\u001b[0m         extracted_data\u001b[39m=\u001b[39mextracted_data[extracted_data[column]\u001b[39m<\u001b[39mmaximum]\n\u001b[0;32m     13\u001b[0m     \u001b[39mif\u001b[39;00m ingredient_filter\u001b[39m!=\u001b[39m\u001b[39mNone\u001b[39;00m:\n",
      "\u001b[1;31mTypeError\u001b[0m: 'float' object is not iterable"
     ]
    }
   ],
   "source": [
    "recommand(dataset,df,Calories)"
   ]
  },
  {
   "cell_type": "code",
   "execution_count": null,
   "metadata": {},
   "outputs": [],
   "source": []
  }
 ],
 "metadata": {
  "kernelspec": {
   "display_name": "base",
   "language": "python",
   "name": "python3"
  },
  "language_info": {
   "codemirror_mode": {
    "name": "ipython",
    "version": 3
   },
   "file_extension": ".py",
   "mimetype": "text/x-python",
   "name": "python",
   "nbconvert_exporter": "python",
   "pygments_lexer": "ipython3",
   "version": "3.10.10"
  },
  "orig_nbformat": 4
 },
 "nbformat": 4,
 "nbformat_minor": 2
}
