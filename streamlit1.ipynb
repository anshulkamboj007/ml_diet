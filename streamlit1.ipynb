{
 "cells": [
  {
   "cell_type": "code",
   "execution_count": 1,
   "metadata": {},
   "outputs": [],
   "source": [
    "import streamlit as st\n",
    "import pandas as pd\n",
    "import numpy as np\n"
   ]
  },
  {
   "cell_type": "code",
   "execution_count": 2,
   "metadata": {},
   "outputs": [
    {
     "name": "stderr",
     "output_type": "stream",
     "text": [
      "2023-06-15 12:01:48.099 \n",
      "  \u001b[33m\u001b[1mWarning:\u001b[0m to view this Streamlit app on a browser, run it with the following\n",
      "  command:\n",
      "\n",
      "    streamlit run c:\\Users\\anshul\\miniconda3\\lib\\site-packages\\ipykernel_launcher.py [ARGUMENTS]\n"
     ]
    },
    {
     "data": {
      "text/plain": [
       "DeltaGenerator()"
      ]
     },
     "execution_count": 2,
     "metadata": {},
     "output_type": "execute_result"
    }
   ],
   "source": [
    "st.text('bmi calculator')"
   ]
  },
  {
   "cell_type": "code",
   "execution_count": 5,
   "metadata": {},
   "outputs": [],
   "source": [
    "weight_in_kgs =1\n",
    "height_in_mtr =1\n",
    "age=1\n",
    "#sex=male (1) or female(2)\n",
    "sex=1\n",
    "BMI = (weight_in_kgs)/(height_in_mtr)**2\t\n",
    "\n"
   ]
  },
  {
   "cell_type": "code",
   "execution_count": 6,
   "metadata": {},
   "outputs": [
    {
     "name": "stdout",
     "output_type": "stream",
     "text": [
      "under weight\n"
     ]
    }
   ],
   "source": [
    "if BMI <16:\n",
    "    print('under weight')\n",
    "elif BMI <17 and BMI >=16:\n",
    "    print('under weight')\n",
    "elif BMI <18.5 and BMI >=17:\n",
    "    print('under weight')\n",
    "elif BMI <25 and BMI >=18.5:\n",
    "    print('normal')\n",
    "elif BMI <30 and BMI >=25:\n",
    "    print('over weight')\n",
    "else :\n",
    "    print('obesity')\n"
   ]
  },
  {
   "cell_type": "code",
   "execution_count": 7,
   "metadata": {},
   "outputs": [
    {
     "name": "stdout",
     "output_type": "stream",
     "text": [
      "kcal req per day 6260.0\n"
     ]
    }
   ],
   "source": [
    "### BMR (kcal/day)\n",
    "\n",
    "if sex == 1:\n",
    "    BMR = 10 * weight_in_kgs + 6.25 *height_in_mtr*1000 - 5 *age  + 5\n",
    "    print('kcal req per day {}'.format(BMR))\n",
    "else :\n",
    "    BMR = 10 * weight_in_kgs + 6.25 *height_in_mtr*1000 - 5 *age  -161\n",
    "    print('kcal req per day {}'.format(BMR))"
   ]
  },
  {
   "cell_type": "code",
   "execution_count": null,
   "metadata": {},
   "outputs": [],
   "source": []
  }
 ],
 "metadata": {
  "kernelspec": {
   "display_name": "base",
   "language": "python",
   "name": "python3"
  },
  "language_info": {
   "codemirror_mode": {
    "name": "ipython",
    "version": 3
   },
   "file_extension": ".py",
   "mimetype": "text/x-python",
   "name": "python",
   "nbconvert_exporter": "python",
   "pygments_lexer": "ipython3",
   "version": "3.10.10"
  },
  "orig_nbformat": 4
 },
 "nbformat": 4,
 "nbformat_minor": 2
}
